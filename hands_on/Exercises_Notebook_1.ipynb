{
  "cells": [
    {
      "cell_type": "markdown",
      "source": [
        "# ASPP 2021\n",
        "## Advanced Numpy Excercises Topics 1 and 2\n"
      ],
      "metadata": {
        "nteract": {
          "transient": {
            "deleting": false
          }
        }
      }
    },
    {
      "cell_type": "code",
      "source": [
        "# Make sure that plots are displayed in the notebook\n",
        "%matplotlib inline\n",
        "\n",
        "# plotting library\n",
        "from matplotlib import pyplot as plt\n",
        "# for obvious reasons\n",
        "import numpy as np\n",
        "\n",
        "# a small number of handy tools that may be useful for these exercises\n",
        "import tools\n",
        "\n",
        "# if you get stuck, try hints.gimme(exersize_nr)\n",
        "import hints "
      ],
      "outputs": [],
      "execution_count": null,
      "metadata": {
        "ExecuteTime": {
          "end_time": "2021-08-19T07:22:38.870317Z",
          "start_time": "2021-08-19T07:22:38.859891Z"
        },
        "collapsed": false,
        "execution": {
          "iopub.execute_input": "2021-08-22T04:37:07.809Z",
          "iopub.status.busy": "2021-08-22T04:37:07.800Z",
          "iopub.status.idle": "2021-08-22T04:37:07.820Z",
          "shell.execute_reply": "2021-08-22T04:37:07.826Z"
        },
        "jupyter": {
          "outputs_hidden": false,
          "source_hidden": false
        },
        "nteract": {
          "transient": {
            "deleting": false
          }
        }
      }
    },
    {
      "cell_type": "markdown",
      "source": [
        "## Topic 1: Warmup to Numpy Arrays"
      ],
      "metadata": {
        "nteract": {
          "transient": {
            "deleting": false
          }
        }
      }
    },
    {
      "cell_type": "markdown",
      "source": [
        "**1.1** Create a random 10x10 numpy array and visualize it using the command `plt.matshow()`"
      ],
      "metadata": {
        "nteract": {
          "transient": {
            "deleting": false
          }
        }
      }
    },
    {
      "cell_type": "code",
      "source": [
        "# Solution Cell\n"
      ],
      "outputs": [],
      "execution_count": null,
      "metadata": {
        "collapsed": true,
        "execution": {
          "iopub.execute_input": "2021-08-22T04:37:08.883Z",
          "iopub.status.busy": "2021-08-22T04:37:08.874Z",
          "iopub.status.idle": "2021-08-22T04:37:08.897Z",
          "shell.execute_reply": "2021-08-22T04:37:08.905Z"
        },
        "jupyter": {
          "outputs_hidden": false,
          "source_hidden": false
        },
        "nteract": {
          "transient": {
            "deleting": false
          }
        }
      }
    },
    {
      "cell_type": "markdown",
      "source": [
        "**1.2** The scene: You are in a casino, playing roulette. You have decided your strategy will be to always bet on red. If you win, you gain 1€, if you lose you gain nothing. At each round you record your profit in a list.\n",
        "\n",
        "#!\n",
        "\n",
        "\n",
        "Simulate 1000 iterations of this: the probability of the ball landing on red is 50%. Try first to do it in a loop in Python without numpy. Then use Numpy to generate an array of ones and zeros. Which implementation wins the speed test?\n",
        "\n",
        "Use the function `timeit` in the local `tools` module.\n"
      ],
      "metadata": {
        "nteract": {
          "transient": {
            "deleting": false
          }
        }
      }
    },
    {
      "cell_type": "code",
      "source": [
        "# Solution Cell\n",
        "import random\n",
        "\n",
        "# Write a function that takes the number of turns as an argument and adds a one or a zero to a list at each turn.\n",
        "def roulette_python(n_turns):\n",
        "    # add your code here"
      ],
      "outputs": [],
      "execution_count": null,
      "metadata": {
        "collapsed": true,
        "execution": {
          "iopub.execute_input": "2021-07-25T09:22:09.662Z",
          "iopub.status.busy": "2021-07-25T09:22:09.657Z",
          "iopub.status.idle": "2021-07-25T09:22:09.669Z",
          "shell.execute_reply": "2021-07-25T09:22:09.674Z"
        },
        "jupyter": {
          "outputs_hidden": false,
          "source_hidden": false
        },
        "nteract": {
          "transient": {
            "deleting": false
          }
        }
      }
    },
    {
      "cell_type": "code",
      "source": [
        "# How long does it take?\n",
        "tools.timeit(\"Z=roulette_python(1000)\", globals())"
      ],
      "outputs": [],
      "execution_count": null,
      "metadata": {
        "collapsed": true,
        "execution": {
          "iopub.execute_input": "2021-07-25T09:22:10.061Z",
          "iopub.status.busy": "2021-07-25T09:22:10.020Z",
          "iopub.status.idle": "2021-07-25T09:22:15.507Z",
          "shell.execute_reply": "2021-07-25T09:22:15.523Z"
        },
        "jupyter": {
          "outputs_hidden": false,
          "source_hidden": false
        },
        "nteract": {
          "transient": {
            "deleting": false
          }
        }
      }
    },
    {
      "cell_type": "code",
      "source": [
        "# Find the numpy command that does the same thing in a vectorized way\n",
        "tools.timeit(\"Z=np.random.uniform(0,1,1000)\", globals())"
      ],
      "outputs": [],
      "execution_count": null,
      "metadata": {
        "collapsed": true,
        "execution": {
          "iopub.execute_input": "2021-07-25T09:22:15.514Z",
          "iopub.status.busy": "2021-07-25T09:22:15.511Z",
          "iopub.status.idle": "2021-07-25T09:22:16.150Z",
          "shell.execute_reply": "2021-07-25T09:22:16.157Z"
        },
        "jupyter": {
          "outputs_hidden": false,
          "source_hidden": false
        },
        "nteract": {
          "transient": {
            "deleting": false
          }
        }
      }
    },
    {
      "cell_type": "markdown",
      "source": [
        "### Cool, let's back up though and look at lists again for a minute:\n",
        "\n",
        "**1.3** The command `print(hex(id(my_list)))` shows you a hash that refers to the location in memory of `my_list`.\n",
        "\n",
        "Try these: \n",
        "\n",
        "a) make a list and check its hash. Then change an element of the list and check again. Does the location in memory change?\n",
        "\n",
        "b) make a tuple like `my_tuple=(1,2)`. Check the hash again. Is it possible to change it in the same way? If you redefine `my_tuple`, does the hash change?\n",
        "\n",
        "(c) try with other datatypes you can think of!)"
      ],
      "metadata": {
        "nteract": {
          "transient": {
            "deleting": false
          }
        }
      }
    },
    {
      "cell_type": "code",
      "source": [
        "# Solution Cell"
      ],
      "outputs": [],
      "execution_count": null,
      "metadata": {
        "collapsed": true,
        "jupyter": {
          "source_hidden": false,
          "outputs_hidden": false
        },
        "nteract": {
          "transient": {
            "deleting": false
          }
        }
      }
    },
    {
      "cell_type": "markdown",
      "source": [
        "## Topic 2: Numpy Indexing"
      ],
      "metadata": {
        "nteract": {
          "transient": {
            "deleting": false
          }
        }
      }
    },
    {
      "cell_type": "markdown",
      "source": [
        "**2.1** Create another random 10x10 numpy array, like in 1.1. Now print the element in the fourth column and the fifth row."
      ],
      "metadata": {
        "nteract": {
          "transient": {
            "deleting": false
          }
        }
      }
    },
    {
      "cell_type": "code",
      "source": [
        "# Solution Cell\n"
      ],
      "outputs": [],
      "execution_count": null,
      "metadata": {
        "collapsed": true,
        "jupyter": {
          "outputs_hidden": false,
          "source_hidden": false
        },
        "nteract": {
          "transient": {
            "deleting": false
          }
        }
      }
    },
    {
      "cell_type": "markdown",
      "source": [
        "**2.2** Print the entire fifth row."
      ],
      "metadata": {
        "nteract": {
          "transient": {
            "deleting": false
          }
        }
      }
    },
    {
      "cell_type": "code",
      "source": [
        "# Solution Cell"
      ],
      "outputs": [],
      "execution_count": null,
      "metadata": {
        "collapsed": true,
        "jupyter": {
          "outputs_hidden": false,
          "source_hidden": false
        },
        "nteract": {
          "transient": {
            "deleting": false
          }
        }
      }
    },
    {
      "cell_type": "markdown",
      "source": [
        "### Wait! Don't run these cells!\n",
        "**2.3** Discuss with your partner before executing each cell- what will the output dimension be?"
      ],
      "metadata": {
        "nteract": {
          "transient": {
            "deleting": false
          }
        }
      }
    },
    {
      "cell_type": "code",
      "source": [
        "a=np.zeros((5,5,5))\n",
        "a.shape"
      ],
      "outputs": [],
      "execution_count": null,
      "metadata": {
        "collapsed": true,
        "execution": {
          "iopub.execute_input": "2021-07-27T09:10:06.822Z",
          "iopub.status.busy": "2021-07-27T09:10:06.815Z",
          "iopub.status.idle": "2021-07-27T09:10:06.835Z",
          "shell.execute_reply": "2021-07-27T09:10:06.839Z"
        },
        "jupyter": {
          "outputs_hidden": false,
          "source_hidden": false
        },
        "nteract": {
          "transient": {
            "deleting": false
          }
        }
      }
    },
    {
      "cell_type": "code",
      "source": [
        "a[1, ::2, ::2].shape"
      ],
      "outputs": [],
      "execution_count": null,
      "metadata": {
        "collapsed": true,
        "execution": {
          "iopub.execute_input": "2021-07-27T09:10:11.532Z",
          "iopub.status.busy": "2021-07-27T09:10:11.525Z",
          "iopub.status.idle": "2021-07-27T09:10:11.547Z",
          "shell.execute_reply": "2021-07-27T09:10:11.553Z"
        },
        "jupyter": {
          "outputs_hidden": false,
          "source_hidden": false
        },
        "nteract": {
          "transient": {
            "deleting": false
          }
        }
      }
    },
    {
      "cell_type": "code",
      "source": [
        "a=np.zeros((3,3))\n",
        "a[1,:].shape"
      ],
      "outputs": [],
      "execution_count": null,
      "metadata": {
        "collapsed": true,
        "execution": {
          "iopub.execute_input": "2021-07-27T09:10:25.992Z",
          "iopub.status.busy": "2021-07-27T09:10:25.985Z",
          "iopub.status.idle": "2021-07-27T09:10:26.007Z",
          "shell.execute_reply": "2021-07-27T09:10:26.013Z"
        },
        "jupyter": {
          "outputs_hidden": false,
          "source_hidden": false
        },
        "nteract": {
          "transient": {
            "deleting": false
          }
        }
      }
    },
    {
      "cell_type": "markdown",
      "source": [
        "**2.4** Now you want an irregular subset of data. \n",
        "\n",
        "a) Print the second and third column!\n",
        "\n",
        "b) Print every second row of the second and third column!"
      ],
      "metadata": {
        "nteract": {
          "transient": {
            "deleting": false
          }
        }
      }
    },
    {
      "cell_type": "code",
      "source": [
        "a = np.random.rand(5,5)\n",
        "a"
      ],
      "outputs": [],
      "execution_count": null,
      "metadata": {
        "collapsed": true,
        "execution": {
          "iopub.execute_input": "2021-08-22T04:40:35.357Z",
          "iopub.status.busy": "2021-08-22T04:40:35.350Z",
          "iopub.status.idle": "2021-08-22T04:40:35.432Z",
          "shell.execute_reply": "2021-08-22T04:40:35.439Z"
        },
        "jupyter": {
          "outputs_hidden": false,
          "source_hidden": false
        },
        "nteract": {
          "transient": {
            "deleting": false
          }
        }
      }
    },
    {
      "cell_type": "code",
      "source": [
        "# Solution Cell"
      ],
      "outputs": [],
      "execution_count": null,
      "metadata": {
        "collapsed": true,
        "jupyter": {
          "source_hidden": false,
          "outputs_hidden": false
        },
        "nteract": {
          "transient": {
            "deleting": false
          }
        },
        "execution": {
          "iopub.status.busy": "2021-08-22T04:40:37.073Z",
          "iopub.execute_input": "2021-08-22T04:40:37.081Z",
          "iopub.status.idle": "2021-08-22T04:40:37.094Z",
          "shell.execute_reply": "2021-08-22T04:40:37.101Z"
        }
      }
    },
    {
      "cell_type": "markdown",
      "source": [
        "**2.5** Again, discuss with your partner before executing each cell- what will the output dimension be?"
      ],
      "metadata": {
        "nteract": {
          "transient": {
            "deleting": false
          }
        }
      }
    },
    {
      "cell_type": "code",
      "source": [
        "a=np.zeros((5,5))\n",
        "a[[2,3], 2:4].shape"
      ],
      "outputs": [],
      "execution_count": null,
      "metadata": {
        "collapsed": true,
        "execution": {
          "iopub.execute_input": "2021-07-27T09:19:41.639Z",
          "iopub.status.busy": "2021-07-27T09:19:41.632Z",
          "iopub.status.idle": "2021-07-27T09:19:41.656Z",
          "shell.execute_reply": "2021-07-27T09:19:41.664Z"
        },
        "jupyter": {
          "outputs_hidden": false,
          "source_hidden": false
        },
        "nteract": {
          "transient": {
            "deleting": false
          }
        }
      }
    },
    {
      "cell_type": "code",
      "source": [
        "a[[2,3], [2,3]].shape"
      ],
      "outputs": [],
      "execution_count": null,
      "metadata": {
        "collapsed": true,
        "execution": {
          "iopub.execute_input": "2021-07-27T09:19:46.127Z",
          "iopub.status.busy": "2021-07-27T09:19:46.119Z",
          "iopub.status.idle": "2021-07-27T09:19:46.146Z",
          "shell.execute_reply": "2021-07-27T09:19:46.153Z"
        },
        "jupyter": {
          "outputs_hidden": false,
          "source_hidden": false
        },
        "nteract": {
          "transient": {
            "deleting": false
          }
        }
      }
    },
    {
      "cell_type": "code",
      "source": [],
      "outputs": [],
      "execution_count": null,
      "metadata": {
        "collapsed": true
      }
    }
  ],
  "metadata": {
    "hide_input": false,
    "kernel_info": {
      "name": "scenewalk"
    },
    "kernelspec": {
      "display_name": "Python [conda env:amld]",
      "language": "python",
      "name": "conda-env-amld-py"
    },
    "language_info": {
      "name": "python",
      "version": "3.8.0",
      "mimetype": "text/x-python",
      "codemirror_mode": {
        "name": "ipython",
        "version": 3
      },
      "pygments_lexer": "ipython3",
      "nbconvert_exporter": "python",
      "file_extension": ".py"
    },
    "nteract": {
      "version": "0.28.0"
    },
    "toc": {
      "nav_menu": {
        "height": "120px",
        "width": "252px"
      },
      "navigate_menu": true,
      "number_sections": true,
      "sideBar": true,
      "threshold": 4,
      "toc_cell": false,
      "toc_section_display": "block",
      "toc_window_display": false
    }
  },
  "nbformat": 4,
  "nbformat_minor": 0
}