{
  "cells": [
    {
      "cell_type": "markdown",
      "source": [
        "# ASPP 2021\n",
        "## Advanced Numpy Excercises Topic 2\n"
      ],
      "metadata": {
        "nteract": {
          "transient": {
            "deleting": false
          }
        }
      }
    },
    {
      "cell_type": "code",
      "source": [
        "# Make sure that plots are displayed in the notebook\n",
        "%matplotlib inline\n",
        "\n",
        "# plotting library\n",
        "from matplotlib import pyplot as plt\n",
        "# for obvious reasons\n",
        "import numpy as np\n",
        "\n",
        "# a small number of handy tools that may be useful for these exercises\n",
        "import tools\n",
        "\n",
        "# if you get stuck, try hints.gimme(exersize_nr)\n",
        "import hints "
      ],
      "outputs": [],
      "execution_count": null,
      "metadata": {
        "ExecuteTime": {
          "end_time": "2021-08-19T07:33:41.229598Z",
          "start_time": "2021-08-19T07:33:40.644713Z"
        },
        "collapsed": true,
        "execution": {
          "iopub.execute_input": "2021-07-27T09:46:32.636Z",
          "iopub.status.busy": "2021-07-27T09:46:32.632Z",
          "iopub.status.idle": "2021-07-27T09:46:32.725Z",
          "shell.execute_reply": "2021-07-27T09:46:32.728Z"
        },
        "jupyter": {
          "outputs_hidden": false,
          "source_hidden": false
        },
        "nteract": {
          "transient": {
            "deleting": false
          }
        }
      }
    },
    {
      "cell_type": "code",
      "source": [
        "# library for loading pictures\n",
        "from PIL import Image\n",
        "\n",
        "def load_image(infilename):\n",
        "    img = Image.open(infilename)\n",
        "    img.load()\n",
        "    data = np.asarray(img, dtype=\"int32\")\n",
        "    return data"
      ],
      "outputs": [],
      "execution_count": null,
      "metadata": {
        "collapsed": true,
        "execution": {
          "iopub.execute_input": "2021-07-27T09:46:32.930Z",
          "iopub.status.busy": "2021-07-27T09:46:32.925Z",
          "iopub.status.idle": "2021-07-27T09:46:32.938Z",
          "shell.execute_reply": "2021-07-27T09:46:32.942Z"
        },
        "jupyter": {
          "outputs_hidden": false,
          "source_hidden": false
        },
        "nteract": {
          "transient": {
            "deleting": false
          }
        }
      }
    },
    {
      "cell_type": "markdown",
      "source": [
        "## Topic 2: Indexing Excersizes"
      ],
      "metadata": {
        "nteract": {
          "transient": {
            "deleting": false
          }
        }
      }
    },
    {
      "cell_type": "markdown",
      "source": [
        "**2.5** Recreate the following plots using the following procedure. Make a canvas with `np.zeros`. Then change the values of some of the elements to 1. Then plot using `plt.matshow()`.\n",
        "\n",
        "![Alt text](patterns.png)\n"
      ],
      "metadata": {
        "nteract": {
          "transient": {
            "deleting": false
          }
        }
      }
    },
    {
      "cell_type": "code",
      "source": [
        "# Solution Cell"
      ],
      "outputs": [],
      "execution_count": null,
      "metadata": {
        "collapsed": true,
        "execution": {
          "iopub.execute_input": "2021-07-27T10:08:14.741Z",
          "iopub.status.busy": "2021-07-27T10:08:14.732Z",
          "iopub.status.idle": "2021-07-27T10:08:14.868Z",
          "shell.execute_reply": "2021-07-27T10:08:14.882Z"
        },
        "jupyter": {
          "outputs_hidden": false,
          "source_hidden": false
        },
        "nteract": {
          "transient": {
            "deleting": false
          }
        }
      }
    },
    {
      "cell_type": "code",
      "source": [
        "# Solution Cell"
      ],
      "outputs": [],
      "execution_count": null,
      "metadata": {
        "collapsed": true,
        "execution": {
          "iopub.execute_input": "2021-07-27T10:08:23.165Z",
          "iopub.status.busy": "2021-07-27T10:08:23.156Z",
          "iopub.status.idle": "2021-07-27T10:08:23.271Z",
          "shell.execute_reply": "2021-07-27T10:08:23.286Z"
        },
        "jupyter": {
          "outputs_hidden": false,
          "source_hidden": false
        },
        "nteract": {
          "transient": {
            "deleting": false
          }
        }
      }
    },
    {
      "cell_type": "code",
      "source": [
        "# Solution Cell"
      ],
      "outputs": [],
      "execution_count": null,
      "metadata": {
        "collapsed": true,
        "execution": {
          "iopub.execute_input": "2021-07-27T10:08:28.650Z",
          "iopub.status.busy": "2021-07-27T10:08:28.644Z",
          "iopub.status.idle": "2021-07-27T10:08:28.760Z",
          "shell.execute_reply": "2021-07-27T10:08:28.771Z"
        },
        "jupyter": {
          "outputs_hidden": false,
          "source_hidden": false
        },
        "nteract": {
          "transient": {
            "deleting": false
          }
        }
      }
    },
    {
      "cell_type": "code",
      "source": [
        "# Solution Cell"
      ],
      "outputs": [],
      "execution_count": null,
      "metadata": {
        "collapsed": true,
        "execution": {
          "iopub.execute_input": "2021-07-27T10:08:34.639Z",
          "iopub.status.busy": "2021-07-27T10:08:34.632Z",
          "iopub.status.idle": "2021-07-27T10:08:34.747Z",
          "shell.execute_reply": "2021-07-27T10:08:34.761Z"
        },
        "jupyter": {
          "outputs_hidden": false,
          "source_hidden": false
        },
        "nteract": {
          "transient": {
            "deleting": false
          }
        }
      }
    },
    {
      "cell_type": "code",
      "source": [
        "# Solution Cell"
      ],
      "outputs": [],
      "execution_count": null,
      "metadata": {
        "collapsed": true,
        "execution": {
          "iopub.execute_input": "2021-07-27T10:08:40.924Z",
          "iopub.status.busy": "2021-07-27T10:08:40.919Z",
          "iopub.status.idle": "2021-07-27T10:08:40.987Z",
          "shell.execute_reply": "2021-07-27T10:08:41.000Z"
        },
        "jupyter": {
          "outputs_hidden": false,
          "source_hidden": false
        },
        "nteract": {
          "transient": {
            "deleting": false
          }
        }
      }
    },
    {
      "cell_type": "markdown",
      "source": [
        "**2.6** use the `load_image` function above to load the example image \"pig.jpg\". Examine the shape and use matplotlib's `plt.imshow` to plot it"
      ],
      "metadata": {
        "nteract": {
          "transient": {
            "deleting": false
          }
        }
      }
    },
    {
      "cell_type": "code",
      "source": [
        "# Solution Cell"
      ],
      "outputs": [],
      "execution_count": null,
      "metadata": {
        "collapsed": true,
        "execution": {
          "iopub.execute_input": "2021-07-27T09:50:53.428Z",
          "iopub.status.busy": "2021-07-27T09:50:53.422Z",
          "iopub.status.idle": "2021-07-27T09:50:54.965Z",
          "shell.execute_reply": "2021-07-27T09:50:54.978Z"
        },
        "jupyter": {
          "outputs_hidden": false,
          "source_hidden": false
        },
        "nteract": {
          "transient": {
            "deleting": false
          }
        }
      }
    },
    {
      "cell_type": "markdown",
      "source": [
        "**2.7** Plotting takes a long time! Let's try only plotting every third pixel!"
      ],
      "metadata": {
        "nteract": {
          "transient": {
            "deleting": false
          }
        }
      }
    },
    {
      "cell_type": "code",
      "source": [
        "# Solution Cell"
      ],
      "outputs": [],
      "execution_count": null,
      "metadata": {
        "collapsed": true,
        "execution": {
          "iopub.execute_input": "2021-07-27T09:51:40.021Z",
          "iopub.status.busy": "2021-07-27T09:51:40.016Z",
          "iopub.status.idle": "2021-07-27T09:51:40.311Z",
          "shell.execute_reply": "2021-07-27T09:51:40.319Z"
        },
        "jupyter": {
          "outputs_hidden": false,
          "source_hidden": false
        },
        "nteract": {
          "transient": {
            "deleting": false
          }
        }
      }
    },
    {
      "cell_type": "markdown",
      "source": [
        "**2.8** You will have noticed that the image shape has 3 dimensions: x, y (the number of pixels) and z = 3. The third dimension represents the three color channels: red, green and blue. Try making the pig's world a bit more rosy. Amp up the red channel by 50% and plot the result.\n"
      ],
      "metadata": {
        "nteract": {
          "transient": {
            "deleting": false
          }
        }
      }
    },
    {
      "cell_type": "code",
      "source": [
        "# Solution Cell"
      ],
      "outputs": [],
      "execution_count": null,
      "metadata": {
        "collapsed": true,
        "execution": {
          "iopub.execute_input": "2021-07-27T09:51:52.158Z",
          "iopub.status.busy": "2021-07-27T09:51:52.153Z",
          "iopub.status.idle": "2021-07-27T09:51:52.461Z",
          "shell.execute_reply": "2021-07-27T09:51:52.472Z"
        },
        "jupyter": {
          "outputs_hidden": false,
          "source_hidden": false
        },
        "nteract": {
          "transient": {
            "deleting": false
          }
        }
      }
    },
    {
      "cell_type": "markdown",
      "source": [
        "**2.9** As you've seen you can change the displayed color of each pixel by changing the value in the R, G or B channels. Draw a black cross on the pig's nose."
      ],
      "metadata": {
        "nteract": {
          "transient": {
            "deleting": false
          }
        }
      }
    },
    {
      "cell_type": "code",
      "source": [
        "# Solution Cell"
      ],
      "outputs": [],
      "execution_count": null,
      "metadata": {
        "collapsed": true,
        "execution": {
          "iopub.execute_input": "2021-07-27T09:52:10.105Z",
          "iopub.status.busy": "2021-07-27T09:52:10.097Z",
          "iopub.status.idle": "2021-07-27T09:52:10.398Z",
          "shell.execute_reply": "2021-07-27T09:52:10.408Z"
        },
        "jupyter": {
          "outputs_hidden": false,
          "source_hidden": false
        },
        "nteract": {
          "transient": {
            "deleting": false
          }
        }
      }
    },
    {
      "cell_type": "markdown",
      "source": [
        "**2.10** In vision science, we have the concept of a saliency map. It is a grid where each point indicates how likely a pixel in the image is to be looked at. \n",
        "\n",
        "The vectors `x` and `y` contain fixation positions in pixels. We also load a saliency map `saliency` that shows the fixation probability at each point.\n",
        "\n",
        "Using the code below, plot the picture and the semi-transparent saliency on top.\n",
        "\n",
        "Evaluate how likely each of the fixations is given the saliency map, by checking the value of the saliency at the fixation position. (The numbers that you get should be negative, since the saliency represents the log likelihood!)\n",
        "\n",
        "You will not need to use a for loop fot this."
      ],
      "metadata": {
        "nteract": {
          "transient": {
            "deleting": false
          }
        }
      }
    },
    {
      "cell_type": "code",
      "source": [
        "# This code generates a colormap that is transparent for small values and less transparent for large values. \n",
        "# It may be useful to overlay the image with the saliency map\n",
        "import matplotlib.colors as mcolors\n",
        "colors = [(0.2, 0.8, 0.1, c) for c in np.linspace(0, 1, 10)** 0.7]\n",
        "cmap_transparent = mcolors.LinearSegmentedColormap.from_list('mycmap', colors, N=10)"
      ],
      "outputs": [],
      "execution_count": null,
      "metadata": {
        "collapsed": true,
        "execution": {
          "iopub.execute_input": "2021-07-27T09:46:35.390Z",
          "iopub.status.busy": "2021-07-27T09:46:35.384Z",
          "iopub.status.idle": "2021-07-27T09:46:35.396Z",
          "shell.execute_reply": "2021-07-27T09:46:35.400Z"
        },
        "jupyter": {
          "outputs_hidden": false,
          "source_hidden": false
        },
        "nteract": {
          "transient": {
            "deleting": false
          }
        }
      }
    },
    {
      "cell_type": "code",
      "source": [
        "x = [240 , 400, 450, 200, 100]\n",
        "y = [250, 7, 310, 150, 130]\n",
        "saliency = np.load(\"pig_density.npy\")\n",
        "im = load_image(\"pig_small.jpg\")"
      ],
      "outputs": [],
      "execution_count": null,
      "metadata": {
        "collapsed": true,
        "execution": {
          "iopub.execute_input": "2021-07-27T09:47:00.806Z",
          "iopub.status.busy": "2021-07-27T09:47:00.801Z",
          "iopub.status.idle": "2021-07-27T09:47:00.819Z",
          "shell.execute_reply": "2021-07-27T09:47:00.825Z"
        },
        "jupyter": {
          "outputs_hidden": false,
          "source_hidden": false
        },
        "nteract": {
          "transient": {
            "deleting": false
          }
        }
      }
    },
    {
      "cell_type": "code",
      "source": [
        "# Solution Cell"
      ],
      "outputs": [],
      "execution_count": null,
      "metadata": {
        "collapsed": true,
        "execution": {
          "iopub.execute_input": "2021-07-27T09:49:35.274Z",
          "iopub.status.busy": "2021-07-27T09:49:35.268Z",
          "iopub.status.idle": "2021-07-27T09:49:35.480Z",
          "shell.execute_reply": "2021-07-27T09:49:35.487Z"
        },
        "jupyter": {
          "outputs_hidden": false,
          "source_hidden": false
        },
        "nteract": {
          "transient": {
            "deleting": false
          }
        }
      }
    },
    {
      "cell_type": "code",
      "source": [
        "# Solution Cell"
      ],
      "outputs": [],
      "execution_count": null,
      "metadata": {
        "collapsed": true,
        "execution": {
          "iopub.execute_input": "2021-07-27T09:53:26.720Z",
          "iopub.status.busy": "2021-07-27T09:53:26.713Z",
          "iopub.status.idle": "2021-07-27T09:53:26.735Z",
          "shell.execute_reply": "2021-07-27T09:53:26.740Z"
        },
        "jupyter": {
          "outputs_hidden": false,
          "source_hidden": false
        },
        "nteract": {
          "transient": {
            "deleting": false
          }
        }
      }
    },
    {
      "cell_type": "markdown",
      "source": [
        "**2.11** (optional)\n",
        "On a 100\\*100 grid, draw a circle.\n",
        "\n",
        "In an x–y Cartesian coordinate system, the circle with centre coordinates (a, b) and radius r is the set of all points (x, y) such that `(x-a)**2 + (y-b)**2 = r**2`\n"
      ],
      "metadata": {
        "nteract": {
          "transient": {
            "deleting": false
          }
        }
      }
    },
    {
      "cell_type": "code",
      "source": [
        "# Solution Cell\n"
      ],
      "outputs": [],
      "execution_count": null,
      "metadata": {
        "ExecuteTime": {
          "end_time": "2021-08-19T07:33:44.140164Z",
          "start_time": "2021-08-19T07:33:43.284832Z"
        },
        "collapsed": false,
        "execution": {
          "iopub.execute_input": "2021-07-27T09:57:17.086Z",
          "iopub.status.busy": "2021-07-27T09:57:17.080Z",
          "iopub.status.idle": "2021-07-27T09:57:17.227Z",
          "shell.execute_reply": "2021-07-27T09:57:17.235Z"
        },
        "jupyter": {
          "outputs_hidden": false,
          "source_hidden": false
        },
        "nteract": {
          "transient": {
            "deleting": false
          }
        }
      }
    },
    {
      "cell_type": "code",
      "source": [],
      "outputs": [],
      "execution_count": null,
      "metadata": {
        "collapsed": true
      }
    }
  ],
  "metadata": {
    "kernel_info": {
      "name": "scenewalk"
    },
    "kernelspec": {
      "display_name": "Python [conda env:amld]",
      "language": "python",
      "name": "conda-env-amld-py"
    },
    "language_info": {
      "codemirror_mode": {
        "name": "ipython",
        "version": 3
      },
      "file_extension": ".py",
      "mimetype": "text/x-python",
      "name": "python",
      "nbconvert_exporter": "python",
      "pygments_lexer": "ipython3",
      "version": "3.5.4"
    },
    "nteract": {
      "version": "0.28.0"
    },
    "toc": {
      "nav_menu": {
        "height": "66px",
        "width": "252px"
      },
      "navigate_menu": true,
      "number_sections": true,
      "sideBar": true,
      "threshold": 4,
      "toc_cell": false,
      "toc_section_display": "block",
      "toc_window_display": false
    }
  },
  "nbformat": 4,
  "nbformat_minor": 0
}