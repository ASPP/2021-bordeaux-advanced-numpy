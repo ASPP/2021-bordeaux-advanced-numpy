{
  "cells": [
    {
      "cell_type": "markdown",
      "source": [
        "# ASPP 2021\n",
        "## Advanced Numpy Excercises Topic 4\n"
      ],
      "metadata": {
        "nteract": {
          "transient": {
            "deleting": false
          }
        }
      }
    },
    {
      "cell_type": "code",
      "source": [
        "# Make sure that plots are displayed in the notebook\n",
        "%matplotlib inline\n",
        "\n",
        "# plotting library\n",
        "from matplotlib import pyplot as plt\n",
        "# for obvious reasons\n",
        "import numpy as np\n",
        "\n",
        "# a small number of handy tools that may be useful for these exercises\n",
        "import tools\n",
        "\n",
        "# if you get stuck, try hints.gimme(exersize_nr)\n",
        "import hints "
      ],
      "outputs": [],
      "execution_count": null,
      "metadata": {
        "ExecuteTime": {
          "end_time": "2021-08-19T07:48:25.420073Z",
          "start_time": "2021-08-19T07:48:24.824992Z"
        },
        "collapsed": true,
        "execution": {
          "iopub.execute_input": "2021-07-27T12:49:10.290Z",
          "iopub.status.busy": "2021-07-27T12:49:10.284Z",
          "iopub.status.idle": "2021-07-27T12:49:10.479Z",
          "shell.execute_reply": "2021-07-27T12:49:10.482Z"
        },
        "jupyter": {
          "outputs_hidden": false,
          "source_hidden": false
        },
        "nteract": {
          "transient": {
            "deleting": false
          }
        }
      }
    },
    {
      "cell_type": "markdown",
      "source": [
        "**4.1** Go full suicide mode: switch off all errors and divide by zero like there's no tomorrow!! Then switch the errors back on."
      ],
      "metadata": {
        "nteract": {
          "transient": {
            "deleting": false
          }
        }
      }
    },
    {
      "cell_type": "code",
      "source": [
        "# Solution Cell"
      ],
      "outputs": [],
      "execution_count": null,
      "metadata": {
        "collapsed": true,
        "execution": {
          "iopub.execute_input": "2021-07-27T12:54:57.254Z",
          "iopub.status.busy": "2021-07-27T12:54:57.251Z",
          "iopub.status.idle": "2021-07-27T12:54:57.265Z",
          "shell.execute_reply": "2021-07-27T12:54:57.268Z"
        },
        "jupyter": {
          "outputs_hidden": false,
          "source_hidden": false
        },
        "nteract": {
          "transient": {
            "deleting": false
          }
        }
      }
    },
    {
      "cell_type": "markdown",
      "source": [
        "**4.2** Consider the following problem. You have a long 1D numpy array. You want to select one out of every two at random, i.e. either the first OR the second, then either the third OR the fourth, etc.\n",
        "\n",
        "(optional) can you generalize your code for more dimensions?\n"
      ],
      "metadata": {
        "nteract": {
          "transient": {
            "deleting": false
          }
        }
      }
    },
    {
      "cell_type": "markdown",
      "source": [
        "-- https://stackoverflow.com/questions/26325652/fastest-way-to-keep-one-element-over-two-from-long-numpy-arrays"
      ],
      "metadata": {
        "nteract": {
          "transient": {
            "deleting": false
          }
        }
      }
    },
    {
      "cell_type": "code",
      "source": [
        "# Solution Cell"
      ],
      "outputs": [],
      "execution_count": null,
      "metadata": {
        "collapsed": true,
        "execution": {
          "iopub.execute_input": "2021-07-27T13:25:09.943Z",
          "iopub.status.busy": "2021-07-27T13:25:09.939Z",
          "iopub.status.idle": "2021-07-27T13:25:09.954Z",
          "shell.execute_reply": "2021-07-27T13:25:09.960Z"
        },
        "jupyter": {
          "outputs_hidden": false,
          "source_hidden": false
        },
        "nteract": {
          "transient": {
            "deleting": false
          }
        }
      }
    },
    {
      "cell_type": "code",
      "source": [],
      "outputs": [],
      "execution_count": null,
      "metadata": {
        "collapsed": true,
        "jupyter": {
          "outputs_hidden": false,
          "source_hidden": false
        },
        "nteract": {
          "transient": {
            "deleting": false
          }
        }
      }
    }
  ],
  "metadata": {
    "kernel_info": {
      "name": "scenewalk"
    },
    "kernelspec": {
      "display_name": "Python [conda env:megaenv]",
      "language": "python",
      "name": "conda-env-megaenv-py"
    },
    "language_info": {
      "codemirror_mode": {
        "name": "ipython",
        "version": 3
      },
      "file_extension": ".py",
      "mimetype": "text/x-python",
      "name": "python",
      "nbconvert_exporter": "python",
      "pygments_lexer": "ipython3",
      "version": "3.7.10"
    },
    "nteract": {
      "version": "0.28.0"
    },
    "toc": {
      "nav_menu": {
        "height": "48px",
        "width": "252px"
      },
      "navigate_menu": true,
      "number_sections": true,
      "sideBar": true,
      "threshold": 4,
      "toc_cell": false,
      "toc_section_display": "block",
      "toc_window_display": false
    }
  },
  "nbformat": 4,
  "nbformat_minor": 0
}