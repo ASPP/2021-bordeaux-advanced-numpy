{
  "cells": [
    {
      "cell_type": "markdown",
      "source": [
        "# ASPP 2021\n",
        "## Advanced Numpy Excercises Topic 4\n"
      ],
      "metadata": {
        "nteract": {
          "transient": {
            "deleting": false
          }
        }
      }
    },
    {
      "cell_type": "code",
      "source": [
        "# Make sure that plots are displayed in the notebook\n",
        "%matplotlib inline\n",
        "\n",
        "# plotting library\n",
        "from matplotlib import pyplot as plt\n",
        "# for obvious reasons\n",
        "import numpy as np\n",
        "\n",
        "# a small number of handy tools that may be useful for these exercises\n",
        "import tools\n",
        "\n",
        "# if you get stuck, try hints.gimme(exersize_nr)\n",
        "import hints "
      ],
      "outputs": [],
      "execution_count": 1,
      "metadata": {
        "ExecuteTime": {
          "end_time": "2021-08-19T07:48:25.420073Z",
          "start_time": "2021-08-19T07:48:24.824992Z"
        },
        "collapsed": true,
        "execution": {
          "iopub.execute_input": "2021-07-27T12:49:10.290Z",
          "iopub.status.busy": "2021-07-27T12:49:10.284Z",
          "iopub.status.idle": "2021-07-27T12:49:10.479Z",
          "shell.execute_reply": "2021-07-27T12:49:10.482Z"
        },
        "jupyter": {
          "outputs_hidden": false,
          "source_hidden": false
        },
        "nteract": {
          "transient": {
            "deleting": false
          }
        }
      }
    },
    {
      "cell_type": "markdown",
      "source": [
        "**4.1** Go full suicide mode: switch off all errors and divide by zero like there's no tomorrow!! Then switch the errors back on."
      ],
      "metadata": {
        "nteract": {
          "transient": {
            "deleting": false
          }
        }
      }
    },
    {
      "cell_type": "code",
      "source": [
        "# Suicide mode on\n",
        "defaults = np.seterr(all=\"ignore\")\n",
        "Z = np.ones(1) / 0\n",
        "\n",
        "# Back to sanity\n",
        "_ = np.seterr(**defaults)\n",
        "\n",
        "# Equivalently with a context manager\n",
        "with np.errstate(all=\"ignore\"):\n",
        "    np.arange(3) / 0\n",
        "    \n",
        "np.geterr()"
      ],
      "outputs": [
        {
          "output_type": "execute_result",
          "execution_count": 4,
          "data": {
            "text/plain": "{'divide': 'warn', 'over': 'warn', 'under': 'ignore', 'invalid': 'warn'}"
          },
          "metadata": {}
        }
      ],
      "execution_count": 4,
      "metadata": {
        "collapsed": true,
        "execution": {
          "iopub.execute_input": "2021-07-27T12:54:57.254Z",
          "iopub.status.busy": "2021-07-27T12:54:57.251Z",
          "iopub.status.idle": "2021-07-27T12:54:57.265Z",
          "shell.execute_reply": "2021-07-27T12:54:57.268Z"
        },
        "jupyter": {
          "outputs_hidden": false,
          "source_hidden": false
        },
        "nteract": {
          "transient": {
            "deleting": false
          }
        }
      }
    },
    {
      "cell_type": "markdown",
      "source": [
        "**4.2** Consider the following problem. You have a long 1D numpy array. You want to select one out of every two at random, i.e. either the first OR the second, then either the third OR the fourth, etc.\n",
        "\n",
        "(optional) can you generalize your code for more dimensions?\n"
      ],
      "metadata": {
        "nteract": {
          "transient": {
            "deleting": false
          }
        }
      }
    },
    {
      "cell_type": "markdown",
      "source": [
        "-- https://stackoverflow.com/questions/26325652/fastest-way-to-keep-one-element-over-two-from-long-numpy-arrays"
      ],
      "metadata": {
        "nteract": {
          "transient": {
            "deleting": false
          }
        }
      }
    },
    {
      "cell_type": "code",
      "source": [
        "a = np.array([1,2,25,13,10,9,4,5])\n",
        "k = 2\n",
        "aa = a.reshape(-1, k)  # 1dim -> 2dim\n",
        "aa"
      ],
      "outputs": [
        {
          "output_type": "execute_result",
          "execution_count": 24,
          "data": {
            "text/plain": "array([[ 1,  2],\n       [25, 13],\n       [10,  9],\n       [ 4,  5]])"
          },
          "metadata": {}
        }
      ],
      "execution_count": 24,
      "metadata": {
        "collapsed": true,
        "execution": {
          "iopub.execute_input": "2021-07-27T13:25:09.943Z",
          "iopub.status.busy": "2021-07-27T13:25:09.939Z",
          "iopub.status.idle": "2021-07-27T13:25:09.954Z",
          "shell.execute_reply": "2021-07-27T13:25:09.960Z"
        },
        "jupyter": {
          "outputs_hidden": false,
          "source_hidden": false
        },
        "nteract": {
          "transient": {
            "deleting": false
          }
        }
      }
    },
    {
      "cell_type": "code",
      "source": [
        "i = np.random.randint(k, size = aa.shape[0]) # random indices\n",
        "i\n"
      ],
      "outputs": [
        {
          "output_type": "execute_result",
          "execution_count": 21,
          "data": {
            "text/plain": "array([0, 0, 0, 1])"
          },
          "metadata": {}
        }
      ],
      "execution_count": 21,
      "metadata": {
        "collapsed": true,
        "execution": {
          "iopub.execute_input": "2021-07-27T13:21:18.645Z",
          "iopub.status.busy": "2021-07-27T13:21:18.641Z",
          "iopub.status.idle": "2021-07-27T13:21:18.655Z",
          "shell.execute_reply": "2021-07-27T13:21:18.658Z"
        },
        "jupyter": {
          "outputs_hidden": false,
          "source_hidden": false
        },
        "nteract": {
          "transient": {
            "deleting": false
          }
        }
      }
    },
    {
      "cell_type": "code",
      "source": [
        "aa[np.arange(4),i]"
      ],
      "outputs": [
        {
          "output_type": "execute_result",
          "execution_count": 22,
          "data": {
            "text/plain": "array([ 1, 25, 10,  5])"
          },
          "metadata": {}
        }
      ],
      "execution_count": 22,
      "metadata": {
        "collapsed": true,
        "execution": {
          "iopub.execute_input": "2021-07-27T13:21:19.181Z",
          "iopub.status.busy": "2021-07-27T13:21:19.176Z",
          "iopub.status.idle": "2021-07-27T13:21:19.191Z",
          "shell.execute_reply": "2021-07-27T13:21:19.195Z"
        },
        "jupyter": {
          "outputs_hidden": false,
          "source_hidden": false
        },
        "nteract": {
          "transient": {
            "deleting": false
          }
        }
      }
    },
    {
      "cell_type": "code",
      "source": [
        "np.choose(i, aa.T)"
      ],
      "outputs": [
        {
          "output_type": "execute_result",
          "execution_count": 23,
          "data": {
            "text/plain": "array([ 1, 25, 10,  5])"
          },
          "metadata": {}
        }
      ],
      "execution_count": 23,
      "metadata": {
        "collapsed": true,
        "execution": {
          "iopub.execute_input": "2021-07-27T13:21:19.637Z",
          "iopub.status.busy": "2021-07-27T13:21:19.632Z",
          "iopub.status.idle": "2021-07-27T13:21:19.645Z",
          "shell.execute_reply": "2021-07-27T13:21:19.649Z"
        },
        "jupyter": {
          "outputs_hidden": false,
          "source_hidden": false
        },
        "nteract": {
          "transient": {
            "deleting": false
          }
        }
      }
    },
    {
      "cell_type": "code",
      "source": [
        "np.arange(8).reshape(2,4).flatten().shape"
      ],
      "outputs": [
        {
          "output_type": "execute_result",
          "execution_count": 28,
          "data": {
            "text/plain": "(8,)"
          },
          "metadata": {}
        }
      ],
      "execution_count": 28,
      "metadata": {
        "collapsed": true,
        "execution": {
          "iopub.execute_input": "2021-07-27T13:34:27.502Z",
          "iopub.status.busy": "2021-07-27T13:34:27.498Z",
          "iopub.status.idle": "2021-07-27T13:34:27.514Z",
          "shell.execute_reply": "2021-07-27T13:34:27.519Z"
        },
        "jupyter": {
          "outputs_hidden": false,
          "source_hidden": false
        },
        "nteract": {
          "transient": {
            "deleting": false
          }
        }
      }
    },
    {
      "cell_type": "code",
      "source": [],
      "outputs": [],
      "execution_count": null,
      "metadata": {
        "collapsed": true,
        "jupyter": {
          "outputs_hidden": false,
          "source_hidden": false
        },
        "nteract": {
          "transient": {
            "deleting": false
          }
        }
      }
    }
  ],
  "metadata": {
    "kernel_info": {
      "name": "scenewalk"
    },
    "kernelspec": {
      "display_name": "Python [conda env:megaenv]",
      "language": "python",
      "name": "conda-env-megaenv-py"
    },
    "language_info": {
      "codemirror_mode": {
        "name": "ipython",
        "version": 3
      },
      "file_extension": ".py",
      "mimetype": "text/x-python",
      "name": "python",
      "nbconvert_exporter": "python",
      "pygments_lexer": "ipython3",
      "version": "3.7.10"
    },
    "nteract": {
      "version": "0.28.0"
    },
    "toc": {
      "nav_menu": {
        "height": "48px",
        "width": "252px"
      },
      "navigate_menu": true,
      "number_sections": true,
      "sideBar": true,
      "threshold": 4,
      "toc_cell": false,
      "toc_section_display": "block",
      "toc_window_display": false
    }
  },
  "nbformat": 4,
  "nbformat_minor": 0
}