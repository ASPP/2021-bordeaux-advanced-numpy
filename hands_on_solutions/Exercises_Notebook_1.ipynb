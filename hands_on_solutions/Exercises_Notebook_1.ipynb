{
  "cells": [
    {
      "cell_type": "markdown",
      "source": [
        "# ASPP 2021\n",
        "## Advanced Numpy Excercises Topics 1 and 2\n"
      ],
      "metadata": {
        "nteract": {
          "transient": {
            "deleting": false
          }
        }
      }
    },
    {
      "cell_type": "code",
      "source": [
        "# for obvious reasons\n",
        "import numpy as np\n",
        "# a small number of handy tools that may be useful for these exercizes\n",
        "import tools\n",
        "# plotting library\n",
        "from matplotlib import pyplot as plt"
      ],
      "outputs": [],
      "execution_count": 1,
      "metadata": {
        "collapsed": true,
        "jupyter": {
          "source_hidden": false,
          "outputs_hidden": false
        },
        "nteract": {
          "transient": {
            "deleting": false
          }
        },
        "execution": {
          "iopub.status.busy": "2021-07-27T08:23:30.822Z",
          "iopub.execute_input": "2021-07-27T08:23:30.829Z",
          "iopub.status.idle": "2021-07-27T08:23:30.991Z",
          "shell.execute_reply": "2021-07-27T08:23:31.000Z"
        }
      }
    },
    {
      "cell_type": "markdown",
      "source": [
        "## Topic 1: Warmup to Numpy Arrays"
      ],
      "metadata": {
        "nteract": {
          "transient": {
            "deleting": false
          }
        }
      }
    },
    {
      "cell_type": "markdown",
      "source": [
        "**1.1** Make a random 10x10 numpy array and visualize it using the command `plt.matshow()`"
      ],
      "metadata": {
        "nteract": {
          "transient": {
            "deleting": false
          }
        }
      }
    },
    {
      "cell_type": "code",
      "source": [
        "Z = np.random.uniform(0, 1, (10, 10))\n",
        "plt.matshow(Z)"
      ],
      "outputs": [
        {
          "output_type": "execute_result",
          "execution_count": 3,
          "data": {
            "text/plain": "<matplotlib.image.AxesImage at 0x113804820>"
          },
          "metadata": {}
        },
        {
          "output_type": "display_data",
          "data": {
            "text/plain": "<Figure size 288x288 with 1 Axes>",
            "image/png": "[encoded data removed]"
          },
          "metadata": {
            "needs_background": "light"
          }
        }
      ],
      "execution_count": 3,
      "metadata": {
        "collapsed": true,
        "jupyter": {
          "source_hidden": false,
          "outputs_hidden": false
        },
        "nteract": {
          "transient": {
            "deleting": false
          }
        },
        "execution": {
          "iopub.status.busy": "2021-07-27T08:23:40.904Z",
          "iopub.execute_input": "2021-07-27T08:23:40.911Z",
          "iopub.status.idle": "2021-07-27T08:23:40.978Z",
          "shell.execute_reply": "2021-07-27T08:23:40.987Z"
        }
      }
    },
    {
      "cell_type": "markdown",
      "source": [
        "**1.2** The scene: You are in a casino, playing roulette. You have decided your strategy will be to always bet on red. If you win, you gain 1€, if you lose you gain nothing. At each round you record your profit in a list.\n",
        "\n",
        "#!\n",
        "\n",
        "\n",
        "Simulate 1000 iterations of this: the probability of the ball landing on red is 50%. Try first to do it in a loop in Python without numpy. Then use Numpy to generate an array of ones and zeros. Which implementation wins the speed test?\n",
        "\n"
      ],
      "metadata": {
        "nteract": {
          "transient": {
            "deleting": false
          }
        }
      }
    },
    {
      "cell_type": "code",
      "source": [
        "import random\n",
        "\n",
        "# Write a function that takes the number of turns as an argument and adds a one or a zero to a list at each turn.\n",
        "def roulette_python(n_turns):\n",
        "    results = []\n",
        "    for i in range(n_turns):\n",
        "        step = random.randint(0, 1)\n",
        "        results.append(step)\n",
        "    return results"
      ],
      "outputs": [],
      "execution_count": 18,
      "metadata": {
        "collapsed": true,
        "jupyter": {
          "source_hidden": false,
          "outputs_hidden": false
        },
        "nteract": {
          "transient": {
            "deleting": false
          }
        },
        "execution": {
          "iopub.status.busy": "2021-07-25T09:22:09.657Z",
          "iopub.execute_input": "2021-07-25T09:22:09.662Z",
          "iopub.status.idle": "2021-07-25T09:22:09.669Z",
          "shell.execute_reply": "2021-07-25T09:22:09.674Z"
        }
      }
    },
    {
      "cell_type": "code",
      "source": [
        "# How long does it take?\n",
        "tools.timeit(\"Z=roulette_python(1000)\", globals())"
      ],
      "outputs": [
        {
          "output_type": "stream",
          "name": "stdout",
          "text": [
            "Timing 'Z=roulette_python(1000)'\n",
            "777 us ± 26.1 us per loop (mean ± std. dev. of 7 runs, 1000 loops each)\n"
          ]
        }
      ],
      "execution_count": 19,
      "metadata": {
        "collapsed": true,
        "jupyter": {
          "source_hidden": false,
          "outputs_hidden": false
        },
        "nteract": {
          "transient": {
            "deleting": false
          }
        },
        "execution": {
          "iopub.status.busy": "2021-07-25T09:22:10.020Z",
          "iopub.execute_input": "2021-07-25T09:22:10.061Z",
          "iopub.status.idle": "2021-07-25T09:22:15.507Z",
          "shell.execute_reply": "2021-07-25T09:22:15.523Z"
        }
      }
    },
    {
      "cell_type": "code",
      "source": [
        "# Find the numpy command that does the same thing in a vectorized way\n",
        "tools.timeit(\"Z=np.random.uniform(0,1,1000)\", globals())"
      ],
      "outputs": [
        {
          "output_type": "stream",
          "name": "stdout",
          "text": [
            "Timing 'Z=np.random.uniform(0,1,1000)'\n",
            "9.96 us ± 0.253 us per loop (mean ± std. dev. of 7 runs, 10000 loops each)\n"
          ]
        }
      ],
      "execution_count": 20,
      "metadata": {
        "collapsed": true,
        "jupyter": {
          "source_hidden": false,
          "outputs_hidden": false
        },
        "nteract": {
          "transient": {
            "deleting": false
          }
        },
        "execution": {
          "iopub.status.busy": "2021-07-25T09:22:15.511Z",
          "iopub.execute_input": "2021-07-25T09:22:15.514Z",
          "iopub.status.idle": "2021-07-25T09:22:16.150Z",
          "shell.execute_reply": "2021-07-25T09:22:16.157Z"
        }
      }
    },
    {
      "cell_type": "markdown",
      "source": [
        "### Cool, lets back up though and look at lists again for a minute:\n",
        "\n",
        "**1.3** The command `print(hex(id(my_list)))` shows you a hash that refers to the location in memory of `my_list`.\n",
        "\n",
        "Try these: \n",
        "\n",
        "a) make a list and check its hash. Then change an element of the list and check again. Does the location in memory change?\n",
        "\n",
        "b) make a tuple like `(1,2)`. Do the same thing: check the hash, change it, and check again!\n",
        "\n",
        "c) try for other datatypes you can think of!"
      ],
      "metadata": {
        "nteract": {
          "transient": {
            "deleting": false
          }
        }
      }
    },
    {
      "cell_type": "markdown",
      "source": [
        "## Topic 2: Numpy Indexing"
      ],
      "metadata": {
        "nteract": {
          "transient": {
            "deleting": false
          }
        }
      }
    },
    {
      "cell_type": "markdown",
      "source": [
        "**2.1** Make another random 10x10 numpy array, like in 1.1. Now print the element in the fourth column and the fifth row."
      ],
      "metadata": {
        "nteract": {
          "transient": {
            "deleting": false
          }
        }
      }
    },
    {
      "cell_type": "code",
      "source": [],
      "outputs": [],
      "execution_count": null,
      "metadata": {
        "collapsed": true,
        "jupyter": {
          "source_hidden": false,
          "outputs_hidden": false
        },
        "nteract": {
          "transient": {
            "deleting": false
          }
        }
      }
    },
    {
      "cell_type": "markdown",
      "source": [
        "**2.2** Return the entire fifth row."
      ],
      "metadata": {
        "nteract": {
          "transient": {
            "deleting": false
          }
        }
      }
    },
    {
      "cell_type": "code",
      "source": [],
      "outputs": [],
      "execution_count": null,
      "metadata": {
        "collapsed": true,
        "jupyter": {
          "source_hidden": false,
          "outputs_hidden": false
        },
        "nteract": {
          "transient": {
            "deleting": false
          }
        }
      }
    },
    {
      "cell_type": "markdown",
      "source": [
        "### Wait! Don't run these cells!\n",
        "**2.3** Discuss with your partner before executing each cell- what will the output dimension be?"
      ],
      "metadata": {
        "nteract": {
          "transient": {
            "deleting": false
          }
        }
      }
    },
    {
      "cell_type": "code",
      "source": [
        "a=np.zeros((5,5,5))\n",
        "a.shape"
      ],
      "outputs": [
        {
          "output_type": "execute_result",
          "execution_count": 9,
          "data": {
            "text/plain": "(5, 5, 5)"
          },
          "metadata": {}
        }
      ],
      "execution_count": 9,
      "metadata": {
        "collapsed": true,
        "jupyter": {
          "source_hidden": false,
          "outputs_hidden": false
        },
        "nteract": {
          "transient": {
            "deleting": false
          }
        },
        "execution": {
          "iopub.status.busy": "2021-07-27T09:10:06.815Z",
          "iopub.execute_input": "2021-07-27T09:10:06.822Z",
          "iopub.status.idle": "2021-07-27T09:10:06.835Z",
          "shell.execute_reply": "2021-07-27T09:10:06.839Z"
        }
      }
    },
    {
      "cell_type": "code",
      "source": [
        "a[1, ::2, ::2].shape"
      ],
      "outputs": [
        {
          "output_type": "execute_result",
          "execution_count": 10,
          "data": {
            "text/plain": "(3, 3)"
          },
          "metadata": {}
        }
      ],
      "execution_count": 10,
      "metadata": {
        "collapsed": true,
        "jupyter": {
          "source_hidden": false,
          "outputs_hidden": false
        },
        "nteract": {
          "transient": {
            "deleting": false
          }
        },
        "execution": {
          "iopub.status.busy": "2021-07-27T09:10:11.525Z",
          "iopub.execute_input": "2021-07-27T09:10:11.532Z",
          "iopub.status.idle": "2021-07-27T09:10:11.547Z",
          "shell.execute_reply": "2021-07-27T09:10:11.553Z"
        }
      }
    },
    {
      "cell_type": "code",
      "source": [
        "a=np.zeros((3,3))\n",
        "a[1,:].shape"
      ],
      "outputs": [
        {
          "output_type": "execute_result",
          "execution_count": 11,
          "data": {
            "text/plain": "(5, 5)"
          },
          "metadata": {}
        }
      ],
      "execution_count": 11,
      "metadata": {
        "collapsed": true,
        "jupyter": {
          "source_hidden": false,
          "outputs_hidden": false
        },
        "nteract": {
          "transient": {
            "deleting": false
          }
        },
        "execution": {
          "iopub.status.busy": "2021-07-27T09:10:25.985Z",
          "iopub.execute_input": "2021-07-27T09:10:25.992Z",
          "iopub.status.idle": "2021-07-27T09:10:26.007Z",
          "shell.execute_reply": "2021-07-27T09:10:26.013Z"
        }
      }
    },
    {
      "cell_type": "markdown",
      "source": [
        "**2.4** Now you want an irregular subset of data. \n",
        "\n",
        "a) Print the second and third column!\n",
        "\n",
        "b) Print every second row of the second and third column!"
      ],
      "metadata": {
        "nteract": {
          "transient": {
            "deleting": false
          }
        }
      }
    },
    {
      "cell_type": "code",
      "source": [
        "a = np.zeros((5,5))"
      ],
      "outputs": [],
      "execution_count": 12,
      "metadata": {
        "collapsed": true,
        "jupyter": {
          "source_hidden": false,
          "outputs_hidden": false
        },
        "nteract": {
          "transient": {
            "deleting": false
          }
        },
        "execution": {
          "iopub.status.busy": "2021-07-27T09:16:51.755Z",
          "iopub.execute_input": "2021-07-27T09:16:51.761Z",
          "iopub.status.idle": "2021-07-27T09:16:51.769Z",
          "shell.execute_reply": "2021-07-27T09:16:51.774Z"
        }
      }
    },
    {
      "cell_type": "markdown",
      "source": [
        "**2.5** Again, discuss with your partner before executing each cell- what will the output dimension be?"
      ],
      "metadata": {
        "nteract": {
          "transient": {
            "deleting": false
          }
        }
      }
    },
    {
      "cell_type": "code",
      "source": [
        "a=np.zeros((5,5))\n",
        "a[[2,3], 2:4].shape"
      ],
      "outputs": [
        {
          "output_type": "execute_result",
          "execution_count": 15,
          "data": {
            "text/plain": "(2, 2)"
          },
          "metadata": {}
        }
      ],
      "execution_count": 15,
      "metadata": {
        "collapsed": true,
        "jupyter": {
          "source_hidden": false,
          "outputs_hidden": false
        },
        "nteract": {
          "transient": {
            "deleting": false
          }
        },
        "execution": {
          "iopub.status.busy": "2021-07-27T09:19:41.632Z",
          "iopub.execute_input": "2021-07-27T09:19:41.639Z",
          "iopub.status.idle": "2021-07-27T09:19:41.656Z",
          "shell.execute_reply": "2021-07-27T09:19:41.664Z"
        }
      }
    },
    {
      "cell_type": "code",
      "source": [
        "a[[2,3], [2,3]].shape"
      ],
      "outputs": [
        {
          "output_type": "execute_result",
          "execution_count": 16,
          "data": {
            "text/plain": "(2,)"
          },
          "metadata": {}
        }
      ],
      "execution_count": 16,
      "metadata": {
        "collapsed": true,
        "jupyter": {
          "source_hidden": false,
          "outputs_hidden": false
        },
        "nteract": {
          "transient": {
            "deleting": false
          }
        },
        "execution": {
          "iopub.status.busy": "2021-07-27T09:19:46.119Z",
          "iopub.execute_input": "2021-07-27T09:19:46.127Z",
          "iopub.status.idle": "2021-07-27T09:19:46.146Z",
          "shell.execute_reply": "2021-07-27T09:19:46.153Z"
        }
      }
    },
    {
      "cell_type": "markdown",
      "source": [],
      "metadata": {
        "nteract": {
          "transient": {
            "deleting": false
          }
        }
      }
    }
  ],
  "metadata": {
    "kernel_info": {
      "name": "scenewalk"
    },
    "language_info": {
      "name": "python",
      "version": "3.8.0",
      "mimetype": "text/x-python",
      "codemirror_mode": {
        "name": "ipython",
        "version": 3
      },
      "pygments_lexer": "ipython3",
      "nbconvert_exporter": "python",
      "file_extension": ".py"
    },
    "kernelspec": {
      "argv": [
        "/Users/lisa/Documents/virtual_envs/scenewalk/bin/python3",
        "-m",
        "ipykernel_launcher",
        "-f",
        "{connection_file}"
      ],
      "display_name": "scenewalk",
      "language": "python",
      "name": "scenewalk"
    },
    "nteract": {
      "version": "0.28.0"
    }
  },
  "nbformat": 4,
  "nbformat_minor": 0
}