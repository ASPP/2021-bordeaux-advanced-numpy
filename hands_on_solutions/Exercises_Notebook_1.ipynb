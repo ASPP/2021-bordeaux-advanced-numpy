{
 "cells": [
  {
   "cell_type": "markdown",
   "metadata": {
    "nteract": {
     "transient": {
      "deleting": false
     }
    }
   },
   "source": [
    "# ASPP 2021\n",
    "## Advanced Numpy Excercises Topics 1 and 2\n"
   ]
  },
  {
   "cell_type": "code",
   "execution_count": 2,
   "metadata": {
    "ExecuteTime": {
     "end_time": "2021-08-19T07:22:38.870317Z",
     "start_time": "2021-08-19T07:22:38.859891Z"
    },
    "collapsed": false,
    "execution": {
     "iopub.execute_input": "2021-07-27T08:23:30.829Z",
     "iopub.status.busy": "2021-07-27T08:23:30.822Z",
     "iopub.status.idle": "2021-07-27T08:23:30.991Z",
     "shell.execute_reply": "2021-07-27T08:23:31.000Z"
    },
    "jupyter": {
     "outputs_hidden": false,
     "source_hidden": false
    },
    "nteract": {
     "transient": {
      "deleting": false
     }
    }
   },
   "outputs": [],
   "source": [
    "# Make sure that plots are displayed in the notebook\n",
    "%matplotlib inline\n",
    "\n",
    "# plotting library\n",
    "from matplotlib import pyplot as plt\n",
    "# for obvious reasons\n",
    "import numpy as np\n",
    "\n",
    "# a small number of handy tools that may be useful for these exercises\n",
    "import tools"
   ]
  },
  {
   "cell_type": "markdown",
   "metadata": {
    "nteract": {
     "transient": {
      "deleting": false
     }
    }
   },
   "source": [
    "## Topic 1: Warmup to Numpy Arrays"
   ]
  },
  {
   "cell_type": "markdown",
   "metadata": {
    "nteract": {
     "transient": {
      "deleting": false
     }
    }
   },
   "source": [
    "**1.1** Create a random 10x10 numpy array and visualize it using the command `plt.matshow()`"
   ]
  },
  {
   "cell_type": "code",
   "execution_count": 3,
   "metadata": {
    "collapsed": true,
    "execution": {
     "iopub.execute_input": "2021-07-27T08:23:40.911Z",
     "iopub.status.busy": "2021-07-27T08:23:40.904Z",
     "iopub.status.idle": "2021-07-27T08:23:40.978Z",
     "shell.execute_reply": "2021-07-27T08:23:40.987Z"
    },
    "jupyter": {
     "outputs_hidden": false,
     "source_hidden": false
    },
    "nteract": {
     "transient": {
      "deleting": false
     }
    }
   },
   "outputs": [
    {
     "data": {
      "text/plain": [
       "<matplotlib.image.AxesImage at 0x113804820>"
      ]
     },
     "execution_count": 3,
     "metadata": {},
     "output_type": "execute_result"
    },
    {
     "data": {
      "image/png": "[encoded data removed]",
      "text/plain": [
       "<Figure size 288x288 with 1 Axes>"
      ]
     },
     "metadata": {
      "needs_background": "light"
     },
     "output_type": "display_data"
    }
   ],
   "source": [
    "Z = np.random.uniform(0, 1, (10, 10))\n",
    "plt.matshow(Z)"
   ]
  },
  {
   "cell_type": "markdown",
   "metadata": {
    "nteract": {
     "transient": {
      "deleting": false
     }
    }
   },
   "source": [
    "**1.2** The scene: You are in a casino, playing roulette. You have decided your strategy will be to always bet on red. If you win, you gain 1€, if you lose you gain nothing. At each round you record your profit in a list.\n",
    "\n",
    "#!\n",
    "\n",
    "\n",
    "Simulate 1000 iterations of this: the probability of the ball landing on red is 50%. Try first to do it in a loop in Python without numpy. Then use Numpy to generate an array of ones and zeros. Which implementation wins the speed test?\n",
    "\n",
    "Use the function `timeit` in the local `tools` module.\n"
   ]
  },
  {
   "cell_type": "code",
   "execution_count": 18,
   "metadata": {
    "collapsed": true,
    "execution": {
     "iopub.execute_input": "2021-07-25T09:22:09.662Z",
     "iopub.status.busy": "2021-07-25T09:22:09.657Z",
     "iopub.status.idle": "2021-07-25T09:22:09.669Z",
     "shell.execute_reply": "2021-07-25T09:22:09.674Z"
    },
    "jupyter": {
     "outputs_hidden": false,
     "source_hidden": false
    },
    "nteract": {
     "transient": {
      "deleting": false
     }
    }
   },
   "outputs": [],
   "source": [
    "import random\n",
    "\n",
    "# Write a function that takes the number of turns as an argument and adds a one or a zero to a list at each turn.\n",
    "def roulette_python(n_turns):\n",
    "    results = []\n",
    "    for i in range(n_turns):\n",
    "        step = random.randint(0, 1)\n",
    "        results.append(step)\n",
    "    return results"
   ]
  },
  {
   "cell_type": "code",
   "execution_count": 19,
   "metadata": {
    "collapsed": true,
    "execution": {
     "iopub.execute_input": "2021-07-25T09:22:10.061Z",
     "iopub.status.busy": "2021-07-25T09:22:10.020Z",
     "iopub.status.idle": "2021-07-25T09:22:15.507Z",
     "shell.execute_reply": "2021-07-25T09:22:15.523Z"
    },
    "jupyter": {
     "outputs_hidden": false,
     "source_hidden": false
    },
    "nteract": {
     "transient": {
      "deleting": false
     }
    }
   },
   "outputs": [
    {
     "name": "stdout",
     "output_type": "stream",
     "text": [
      "Timing 'Z=roulette_python(1000)'\n",
      "777 us ± 26.1 us per loop (mean ± std. dev. of 7 runs, 1000 loops each)\n"
     ]
    }
   ],
   "source": [
    "# How long does it take?\n",
    "tools.timeit(\"Z=roulette_python(1000)\", globals())"
   ]
  },
  {
   "cell_type": "code",
   "execution_count": 20,
   "metadata": {
    "collapsed": true,
    "execution": {
     "iopub.execute_input": "2021-07-25T09:22:15.514Z",
     "iopub.status.busy": "2021-07-25T09:22:15.511Z",
     "iopub.status.idle": "2021-07-25T09:22:16.150Z",
     "shell.execute_reply": "2021-07-25T09:22:16.157Z"
    },
    "jupyter": {
     "outputs_hidden": false,
     "source_hidden": false
    },
    "nteract": {
     "transient": {
      "deleting": false
     }
    }
   },
   "outputs": [
    {
     "name": "stdout",
     "output_type": "stream",
     "text": [
      "Timing 'Z=np.random.uniform(0,1,1000)'\n",
      "9.96 us ± 0.253 us per loop (mean ± std. dev. of 7 runs, 10000 loops each)\n"
     ]
    }
   ],
   "source": [
    "# Find the numpy command that does the same thing in a vectorized way\n",
    "tools.timeit(\"Z=np.random.uniform(0,1,1000)\", globals())"
   ]
  },
  {
   "cell_type": "markdown",
   "metadata": {
    "nteract": {
     "transient": {
      "deleting": false
     }
    }
   },
   "source": [
    "### Cool, let's back up though and look at lists again for a minute:\n",
    "\n",
    "**1.3** The command `print(hex(id(my_list)))` shows you a hash that refers to the location in memory of `my_list`.\n",
    "\n",
    "Try these: \n",
    "\n",
    "a) make a list and check its hash. Then change an element of the list and check again. Does the location in memory change?\n",
    "\n",
    "b) make a tuple like `(1,2)`. Do the same thing: check the hash, change it, and check again!\n",
    "\n",
    "c) try with other datatypes you can think of!"
   ]
  },
  {
   "cell_type": "markdown",
   "metadata": {
    "nteract": {
     "transient": {
      "deleting": false
     }
    }
   },
   "source": [
    "## Topic 2: Numpy Indexing"
   ]
  },
  {
   "cell_type": "markdown",
   "metadata": {
    "nteract": {
     "transient": {
      "deleting": false
     }
    }
   },
   "source": [
    "**2.1** Create another random 10x10 numpy array, like in 1.1. Now print the element in the fourth column and the fifth row."
   ]
  },
  {
   "cell_type": "code",
   "execution_count": null,
   "metadata": {
    "collapsed": true,
    "jupyter": {
     "outputs_hidden": false,
     "source_hidden": false
    },
    "nteract": {
     "transient": {
      "deleting": false
     }
    }
   },
   "outputs": [],
   "source": []
  },
  {
   "cell_type": "markdown",
   "metadata": {
    "nteract": {
     "transient": {
      "deleting": false
     }
    }
   },
   "source": [
    "**2.2** Return the entire fifth row."
   ]
  },
  {
   "cell_type": "code",
   "execution_count": null,
   "metadata": {
    "collapsed": true,
    "jupyter": {
     "outputs_hidden": false,
     "source_hidden": false
    },
    "nteract": {
     "transient": {
      "deleting": false
     }
    }
   },
   "outputs": [],
   "source": []
  },
  {
   "cell_type": "markdown",
   "metadata": {
    "nteract": {
     "transient": {
      "deleting": false
     }
    }
   },
   "source": [
    "### Wait! Don't run these cells!\n",
    "**2.3** Discuss with your partner before executing each cell- what will the output dimension be?"
   ]
  },
  {
   "cell_type": "code",
   "execution_count": 9,
   "metadata": {
    "collapsed": true,
    "execution": {
     "iopub.execute_input": "2021-07-27T09:10:06.822Z",
     "iopub.status.busy": "2021-07-27T09:10:06.815Z",
     "iopub.status.idle": "2021-07-27T09:10:06.835Z",
     "shell.execute_reply": "2021-07-27T09:10:06.839Z"
    },
    "jupyter": {
     "outputs_hidden": false,
     "source_hidden": false
    },
    "nteract": {
     "transient": {
      "deleting": false
     }
    }
   },
   "outputs": [
    {
     "data": {
      "text/plain": [
       "(5, 5, 5)"
      ]
     },
     "execution_count": 9,
     "metadata": {},
     "output_type": "execute_result"
    }
   ],
   "source": [
    "a=np.zeros((5,5,5))\n",
    "a.shape"
   ]
  },
  {
   "cell_type": "code",
   "execution_count": 10,
   "metadata": {
    "collapsed": true,
    "execution": {
     "iopub.execute_input": "2021-07-27T09:10:11.532Z",
     "iopub.status.busy": "2021-07-27T09:10:11.525Z",
     "iopub.status.idle": "2021-07-27T09:10:11.547Z",
     "shell.execute_reply": "2021-07-27T09:10:11.553Z"
    },
    "jupyter": {
     "outputs_hidden": false,
     "source_hidden": false
    },
    "nteract": {
     "transient": {
      "deleting": false
     }
    }
   },
   "outputs": [
    {
     "data": {
      "text/plain": [
       "(3, 3)"
      ]
     },
     "execution_count": 10,
     "metadata": {},
     "output_type": "execute_result"
    }
   ],
   "source": [
    "a[1, ::2, ::2].shape"
   ]
  },
  {
   "cell_type": "code",
   "execution_count": 11,
   "metadata": {
    "collapsed": true,
    "execution": {
     "iopub.execute_input": "2021-07-27T09:10:25.992Z",
     "iopub.status.busy": "2021-07-27T09:10:25.985Z",
     "iopub.status.idle": "2021-07-27T09:10:26.007Z",
     "shell.execute_reply": "2021-07-27T09:10:26.013Z"
    },
    "jupyter": {
     "outputs_hidden": false,
     "source_hidden": false
    },
    "nteract": {
     "transient": {
      "deleting": false
     }
    }
   },
   "outputs": [
    {
     "data": {
      "text/plain": [
       "(5, 5)"
      ]
     },
     "execution_count": 11,
     "metadata": {},
     "output_type": "execute_result"
    }
   ],
   "source": [
    "a=np.zeros((3,3))\n",
    "a[1,:].shape"
   ]
  },
  {
   "cell_type": "markdown",
   "metadata": {
    "nteract": {
     "transient": {
      "deleting": false
     }
    }
   },
   "source": [
    "**2.4** Now you want an irregular subset of data. \n",
    "\n",
    "a) Print the second and third column!\n",
    "\n",
    "b) Print every second row of the second and third column!"
   ]
  },
  {
   "cell_type": "code",
   "execution_count": 12,
   "metadata": {
    "collapsed": true,
    "execution": {
     "iopub.execute_input": "2021-07-27T09:16:51.761Z",
     "iopub.status.busy": "2021-07-27T09:16:51.755Z",
     "iopub.status.idle": "2021-07-27T09:16:51.769Z",
     "shell.execute_reply": "2021-07-27T09:16:51.774Z"
    },
    "jupyter": {
     "outputs_hidden": false,
     "source_hidden": false
    },
    "nteract": {
     "transient": {
      "deleting": false
     }
    }
   },
   "outputs": [],
   "source": [
    "a = np.zeros((5,5))"
   ]
  },
  {
   "cell_type": "markdown",
   "metadata": {
    "nteract": {
     "transient": {
      "deleting": false
     }
    }
   },
   "source": [
    "**2.5** Again, discuss with your partner before executing each cell- what will the output dimension be?"
   ]
  },
  {
   "cell_type": "code",
   "execution_count": 15,
   "metadata": {
    "collapsed": true,
    "execution": {
     "iopub.execute_input": "2021-07-27T09:19:41.639Z",
     "iopub.status.busy": "2021-07-27T09:19:41.632Z",
     "iopub.status.idle": "2021-07-27T09:19:41.656Z",
     "shell.execute_reply": "2021-07-27T09:19:41.664Z"
    },
    "jupyter": {
     "outputs_hidden": false,
     "source_hidden": false
    },
    "nteract": {
     "transient": {
      "deleting": false
     }
    }
   },
   "outputs": [
    {
     "data": {
      "text/plain": [
       "(2, 2)"
      ]
     },
     "execution_count": 15,
     "metadata": {},
     "output_type": "execute_result"
    }
   ],
   "source": [
    "a=np.zeros((5,5))\n",
    "a[[2,3], 2:4].shape"
   ]
  },
  {
   "cell_type": "code",
   "execution_count": 16,
   "metadata": {
    "collapsed": true,
    "execution": {
     "iopub.execute_input": "2021-07-27T09:19:46.127Z",
     "iopub.status.busy": "2021-07-27T09:19:46.119Z",
     "iopub.status.idle": "2021-07-27T09:19:46.146Z",
     "shell.execute_reply": "2021-07-27T09:19:46.153Z"
    },
    "jupyter": {
     "outputs_hidden": false,
     "source_hidden": false
    },
    "nteract": {
     "transient": {
      "deleting": false
     }
    }
   },
   "outputs": [
    {
     "data": {
      "text/plain": [
       "(2,)"
      ]
     },
     "execution_count": 16,
     "metadata": {},
     "output_type": "execute_result"
    }
   ],
   "source": [
    "a[[2,3], [2,3]].shape"
   ]
  },
  {
   "cell_type": "code",
   "execution_count": null,
   "metadata": {
    "collapsed": true
   },
   "outputs": [],
   "source": []
  }
 ],
 "metadata": {
  "hide_input": false,
  "kernel_info": {
   "name": "scenewalk"
  },
  "kernelspec": {
   "display_name": "Python [conda env:amld]",
   "language": "python",
   "name": "conda-env-amld-py"
  },
  "language_info": {
   "codemirror_mode": {
    "name": "ipython",
    "version": 3
   },
   "file_extension": ".py",
   "mimetype": "text/x-python",
   "name": "python",
   "nbconvert_exporter": "python",
   "pygments_lexer": "ipython3",
   "version": "3.5.4"
  },
  "nteract": {
   "version": "0.28.0"
  },
  "toc": {
   "nav_menu": {
    "height": "120px",
    "width": "252px"
   },
   "navigate_menu": true,
   "number_sections": true,
   "sideBar": true,
   "threshold": 4,
   "toc_cell": false,
   "toc_section_display": "block",
   "toc_window_display": false
  }
 },
 "nbformat": 4,
 "nbformat_minor": 0
}
